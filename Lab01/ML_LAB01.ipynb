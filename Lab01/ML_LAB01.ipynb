{
  "nbformat": 4,
  "nbformat_minor": 0,
  "metadata": {
    "colab": {
      "provenance": []
    },
    "kernelspec": {
      "name": "python3",
      "display_name": "Python 3"
    },
    "language_info": {
      "name": "python"
    }
  },
  "cells": [
    {
      "cell_type": "markdown",
      "source": [
        "Exercise:\n",
        "\n",
        "1.Create Two numpy array of size 4 X 5 and 5 X 4."
      ],
      "metadata": {
        "id": "mhIxb6rQZaNC"
      }
    },
    {
      "cell_type": "code",
      "source": [
        "import numpy as np\n",
        "array4X5=np.array([[1,2,3,4,5],[6,7,8,9,10],[11,12,13,14,15],[16,17,18,19,20]])\n",
        "array5X4=np.array([[1,2,3,4],[5,6,7,8],[9,10,11,12],[13,14,15,16],[17,18,19,20]])"
      ],
      "metadata": {
        "id": "JVLnhCX3ZrxZ"
      },
      "execution_count": null,
      "outputs": []
    },
    {
      "cell_type": "markdown",
      "source": [
        "2.Randomly Initalize that array"
      ],
      "metadata": {
        "id": "YIm1sW-9cdvZ"
      }
    },
    {
      "cell_type": "code",
      "source": [
        "array4X5=np.array([[1,2,3,4,5],[6,7,8,9,10],[11,12,13,14,15],[16,17,18,19,20]])\n",
        "array5X4=np.array([[1,2,3,4],[5,6,7,8],[9,10,11,12],[13,14,15,16],[17,18,19,20]])"
      ],
      "metadata": {
        "id": "y_F2HJ0fciy6"
      },
      "execution_count": null,
      "outputs": []
    },
    {
      "cell_type": "markdown",
      "source": [
        "3.Perform matrix multiplication"
      ],
      "metadata": {
        "id": "TvgAnU9scjk7"
      }
    },
    {
      "cell_type": "code",
      "source": [
        "print(array4X5.dot(array5X4))"
      ],
      "metadata": {
        "id": "NJRoZ0lWcnCa"
      },
      "execution_count": null,
      "outputs": []
    },
    {
      "cell_type": "markdown",
      "source": [
        "4.Perform elementwise matrix multiplication"
      ],
      "metadata": {
        "id": "X_fFLvOKcnxx"
      }
    },
    {
      "cell_type": "code",
      "source": [
        "v = np.array([9,10])\n",
        "w = np.array([11,12])\n",
        "print(v*w)"
      ],
      "metadata": {
        "id": "jYcfTk7Wcrpq"
      },
      "execution_count": null,
      "outputs": []
    },
    {
      "cell_type": "markdown",
      "source": [
        "5.Find mean, median of the first matrix."
      ],
      "metadata": {
        "id": "9zh8dUnTcsOq"
      }
    },
    {
      "cell_type": "code",
      "source": [
        "mean=np.mean(array4X5)\n",
        "print(\"Mean is: \",mean)\n",
        "median=np.median(array4X5)\n",
        "print(\"Median is: \",median)"
      ],
      "metadata": {
        "id": "TFqpW9vBcwgC"
      },
      "execution_count": null,
      "outputs": []
    },
    {
      "cell_type": "markdown",
      "source": [
        "6.Get the transpose of that Matrix that you created. Create a square matrix and find its deter-\n",
        "minant."
      ],
      "metadata": {
        "id": "drevjcWhcxJZ"
      }
    },
    {
      "cell_type": "code",
      "source": [
        "square=np.array([[9,7,77],[28,11,76],[15,8,2]])\n",
        "print(\"Actual matrix:\\n\",square)\n",
        "transpose=square.T\n",
        "print(\"Transpose of matrix:\\n\",transpose)\n",
        "determinant=np.linalg.det(square)\n",
        "print(\"Determinant of above square matrix is: \",determinant)"
      ],
      "metadata": {
        "id": "JcIfETQsc14S"
      },
      "execution_count": null,
      "outputs": []
    },
    {
      "cell_type": "markdown",
      "source": [
        "7.Obtain each row in the second column of the first array."
      ],
      "metadata": {
        "id": "uhD31hjyc34q"
      }
    },
    {
      "cell_type": "code",
      "source": [
        "print(array4X5[:,1])"
      ],
      "metadata": {
        "id": "w2aonKCDc8Rr",
        "colab": {
          "base_uri": "https://localhost:8080/"
        },
        "outputId": "0aaf769a-4771-4d7a-e33d-e44f924fbdae"
      },
      "execution_count": null,
      "outputs": [
        {
          "output_type": "stream",
          "name": "stdout",
          "text": [
            "[ 2  7 12 17]\n"
          ]
        }
      ]
    },
    {
      "cell_type": "markdown",
      "source": [
        "8.Convert Numeric entries(columns) of mtcars.csv to Mean Centered Version"
      ],
      "metadata": {
        "id": "jHpBBEgNc8_T"
      }
    },
    {
      "cell_type": "code",
      "source": [
        "import pandas as pd\n",
        "path=\"/content/drive/MyDrive/Colab Notebooks/mtcars.csv\"\n",
        "cars=pd.read_csv(path)\n",
        "cars=cars.select_dtypes(include='number')\n",
        "array=cars.values\n",
        "array2=array-np.mean(array,axis=0)\n",
        "print(array2)"
      ],
      "metadata": {
        "id": "eP52xB0bdA2c"
      },
      "execution_count": null,
      "outputs": []
    },
    {
      "cell_type": "markdown",
      "source": [
        "9.Perform all of the above preprocessing tasks on any other text dataset"
      ],
      "metadata": {
        "id": "Vo-rtXjhUpaM"
      }
    },
    {
      "cell_type": "code",
      "source": [
        "import nltk \n",
        "from nltk.corpus import twitter_samples \n",
        "import matplotlib.pyplot as plt \n",
        "import random\n",
        "import re\n",
        "import string\n",
        "from nltk.corpus import stopwords \n",
        "from nltk.stem import PorterStemmer \n",
        "from nltk.tokenize import TweetTokenizer \n",
        "from nltk.stem import WordNetLemmatizer\n",
        "\n",
        "nltk.download('twitter_samples')\n",
        "all_positive_tweets = twitter_samples.strings('positive_tweets.json')\n",
        "all_negative_tweets = twitter_samples.strings('negative_tweets.json')\n",
        "nltk.download('stopwords')\n",
        "stopwords_english = stopwords.words('english')\n",
        "nltk.download('wordnet')\n",
        "# fig = plt.figure(figsize=(4,4))\n",
        "# labels = 'Positive','Negative'\n",
        "# sizes = [len(all_positive_tweets),len(all_negative_tweets)]\n",
        "# plt.pie(sizes,labels=labels,autopct='%1.1f%%',shadow=True,startangle=90)\n",
        "# plt.axis('equal')\n",
        "# plt.show()\n",
        "\n",
        "# print('\\033[96m' + all_positive_tweets[random.randint(0,5000)])\n",
        "# print('\\033[91m' + all_negative_tweets[random.randint(0,5000)])\n",
        "\n",
        "tweet = all_positive_tweets[4050]\n",
        "print('\\033[92m'+tweet)\n",
        "tweet2 = re.sub(r'#','',tweet)\n",
        "print('\\033[96m')\n",
        "print(tweet2)\n",
        "print('\\033[94m')\n",
        "\n",
        "tokenizer = TweetTokenizer(preserve_case=False)\n",
        "tweet_tokens = tokenizer.tokenize(tweet2)\n",
        "print('Tokenized string:')\n",
        "print(tweet_tokens)\n",
        "print('\\033[92m')\n",
        "\n",
        "tweets_clean = []\n",
        "for word in tweet_tokens: \n",
        "    if (word not in stopwords_english and word not in string.punctuation): \n",
        "        tweets_clean.append(word)\n",
        "print('removed stop words and punctuation:')\n",
        "print(tweets_clean)\n",
        "print('\\033[96m')\n",
        "\n",
        "stemmer = PorterStemmer()\n",
        "tweets_stem = []\n",
        "for word in tweets_clean:\n",
        "    stem_word = stemmer.stem(word) \n",
        "    tweets_stem.append(stem_word) \n",
        "print('stemmed words:')\n",
        "print(tweets_stem)\n",
        "# print('\\033[94m')\n",
        "\n",
        "# wordnet_lemmatizer = WordNetLemmatizer()\n",
        "# tweets_lem = []\n",
        "# for word in tweets_clean:\n",
        "#     lem_words = wordnet_lemmatizer.lemmatize(word)\n",
        "#     tweets_lem.append(lem_words) \n",
        "# print('lemmatized words:')\n",
        "# print(tweets_lem)"
      ],
      "metadata": {
        "id": "lq3FM5djU4c8"
      },
      "execution_count": null,
      "outputs": []
    },
    {
      "cell_type": "markdown",
      "source": [
        "10.Draw Scatter Plot between SepalLengthCm and SepalWidthCm for “Iris.csv” file with\n",
        "proper labelling."
      ],
      "metadata": {
        "id": "CjaAO6Htw-qM"
      }
    },
    {
      "cell_type": "code",
      "source": [
        "import pandas as pd\n",
        "path=\"/content/drive/MyDrive/Colab Notebooks/Iris.csv\"\n",
        "iris=pd.read_csv(path)\n",
        "plt.scatter(iris['SepalLengthCm'],iris['SepalWidthCm'])\n",
        "plt.show()"
      ],
      "metadata": {
        "colab": {
          "base_uri": "https://localhost:8080/",
          "height": 268
        },
        "id": "v6a_oP2DxIeu",
        "outputId": "700b1935-62a6-48bd-a922-5330ed5ec1ac"
      },
      "execution_count": null,
      "outputs": [
        {
          "output_type": "display_data",
          "data": {
            "text/plain": [
              "<Figure size 432x288 with 1 Axes>"
            ],
            "image/png": "[encoded data removed]"
          },
          "metadata": {
            "needs_background": "light"
          }
        }
      ]
    },
    {
      "cell_type": "markdown",
      "source": [
        "11.Draw Histogram of SepalLengthCm with proper labelling."
      ],
      "metadata": {
        "id": "wv8Qdtzg9XY-"
      }
    },
    {
      "cell_type": "code",
      "source": [
        "plt.hist(iris['SepalLengthCm'],bins=5)\n",
        "plt.show()"
      ],
      "metadata": {
        "colab": {
          "base_uri": "https://localhost:8080/",
          "height": 265
        },
        "id": "TJrrm_fC9chh",
        "outputId": "e49b90a3-72d8-4c89-a0dc-d004b2022019"
      },
      "execution_count": null,
      "outputs": [
        {
          "output_type": "display_data",
          "data": {
            "text/plain": [
              "<Figure size 432x288 with 1 Axes>"
            ],
            "image/png": "[encoded data removed]"
          },
          "metadata": {
            "needs_background": "light"
          }
        }
      ]
    },
    {
      "cell_type": "markdown",
      "source": [
        "12.Plot bar chart of Species."
      ],
      "metadata": {
        "id": "b4vaMmR59dCk"
      }
    },
    {
      "cell_type": "code",
      "source": [
        "import seaborn as sn\n",
        "count=iris['Species'].value_counts()\n",
        "Species_name=['Iris-setosa','Iris-versicolor','Iris-virginica']\n",
        "plt.bar(Species_name,count)\n",
        "plt.show()"
      ],
      "metadata": {
        "colab": {
          "base_uri": "https://localhost:8080/",
          "height": 265
        },
        "id": "MkRbhF_k9hI0",
        "outputId": "9d513792-4908-4f51-acda-74a33153e1b3"
      },
      "execution_count": null,
      "outputs": [
        {
          "output_type": "display_data",
          "data": {
            "text/plain": [
              "<Figure size 432x288 with 1 Axes>"
            ],
            "image/png": "[encoded data removed]"
          },
          "metadata": {
            "needs_background": "light"
          }
        }
      ]
    },
    {
      "cell_type": "markdown",
      "source": [
        "13.Count total null values for each column in this dataset."
      ],
      "metadata": {
        "id": "nq0dtulh9h40"
      }
    },
    {
      "cell_type": "code",
      "source": [
        "print(\"Total Null Data:\\n\",iris.isnull().sum())"
      ],
      "metadata": {
        "colab": {
          "base_uri": "https://localhost:8080/"
        },
        "id": "NqB7doRa9m_x",
        "outputId": "794e0c13-d259-4b53-ff1f-f63fa9adba10"
      },
      "execution_count": null,
      "outputs": [
        {
          "output_type": "stream",
          "name": "stdout",
          "text": [
            "Total Null Data:\n",
            " Id               0\n",
            "SepalLengthCm    0\n",
            "SepalWidthCm     0\n",
            "PetalLengthCm    0\n",
            "PetalWidthCm     0\n",
            "Species          0\n",
            "dtype: int64\n"
          ]
        }
      ]
    },
    {
      "cell_type": "markdown",
      "source": [
        "14. i) Print first 5 rows of SepalLengthCm. \n",
        "ii) Print from 5th row and onwards and entire column of Iris.csv dataset."
      ],
      "metadata": {
        "id": "he-_fwB39n52"
      }
    },
    {
      "cell_type": "code",
      "source": [
        "# i)Print first 5 rows of SepalLengthCm.\n",
        "iris.loc[1:5,'SepalLengthCm']\n",
        "\n",
        "# ii)Print from 5th row and onwards and entire column of Iris.csv dataset.\n",
        "display(iris.loc[5:])"
      ],
      "metadata": {
        "colab": {
          "base_uri": "https://localhost:8080/",
          "height": 424
        },
        "id": "k2PeVCIV9zfj",
        "outputId": "043abe61-9689-4d01-a888-34cb49a14987"
      },
      "execution_count": null,
      "outputs": [
        {
          "output_type": "display_data",
          "data": {
            "text/plain": [
              "      Id  SepalLengthCm  SepalWidthCm  PetalLengthCm  PetalWidthCm  \\\n",
              "5      6            5.4           3.9            1.7           0.4   \n",
              "6      7            4.6           3.4            1.4           0.3   \n",
              "7      8            5.0           3.4            1.5           0.2   \n",
              "8      9            4.4           2.9            1.4           0.2   \n",
              "9     10            4.9           3.1            1.5           0.1   \n",
              "..   ...            ...           ...            ...           ...   \n",
              "145  146            6.7           3.0            5.2           2.3   \n",
              "146  147            6.3           2.5            5.0           1.9   \n",
              "147  148            6.5           3.0            5.2           2.0   \n",
              "148  149            6.2           3.4            5.4           2.3   \n",
              "149  150            5.9           3.0            5.1           1.8   \n",
              "\n",
              "            Species  \n",
              "5       Iris-setosa  \n",
              "6       Iris-setosa  \n",
              "7       Iris-setosa  \n",
              "8       Iris-setosa  \n",
              "9       Iris-setosa  \n",
              "..              ...  \n",
              "145  Iris-virginica  \n",
              "146  Iris-virginica  \n",
              "147  Iris-virginica  \n",
              "148  Iris-virginica  \n",
              "149  Iris-virginica  \n",
              "\n",
              "[145 rows x 6 columns]"
            ],
            "text/html": [
              "\n",
              "  <div id=\"df-40d68094-9b02-4170-a5a6-5cb47aed1cbe\">\n",
              "    <div class=\"colab-df-container\">\n",
              "      <div>\n",
              "<style scoped>\n",
              "    .dataframe tbody tr th:only-of-type {\n",
              "        vertical-align: middle;\n",
              "    }\n",
              "\n",
              "    .dataframe tbody tr th {\n",
              "        vertical-align: top;\n",
              "    }\n",
              "\n",
              "    .dataframe thead th {\n",
              "        text-align: right;\n",
              "    }\n",
              "</style>\n",
              "<table border=\"1\" class=\"dataframe\">\n",
              "  <thead>\n",
              "    <tr style=\"text-align: right;\">\n",
              "      <th></th>\n",
              "      <th>Id</th>\n",
              "      <th>SepalLengthCm</th>\n",
              "      <th>SepalWidthCm</th>\n",
              "      <th>PetalLengthCm</th>\n",
              "      <th>PetalWidthCm</th>\n",
              "      <th>Species</th>\n",
              "    </tr>\n",
              "  </thead>\n",
              "  <tbody>\n",
              "    <tr>\n",
              "      <th>5</th>\n",
              "      <td>6</td>\n",
              "      <td>5.4</td>\n",
              "      <td>3.9</td>\n",
              "      <td>1.7</td>\n",
              "      <td>0.4</td>\n",
              "      <td>Iris-setosa</td>\n",
              "    </tr>\n",
              "    <tr>\n",
              "      <th>6</th>\n",
              "      <td>7</td>\n",
              "      <td>4.6</td>\n",
              "      <td>3.4</td>\n",
              "      <td>1.4</td>\n",
              "      <td>0.3</td>\n",
              "      <td>Iris-setosa</td>\n",
              "    </tr>\n",
              "    <tr>\n",
              "      <th>7</th>\n",
              "      <td>8</td>\n",
              "      <td>5.0</td>\n",
              "      <td>3.4</td>\n",
              "      <td>1.5</td>\n",
              "      <td>0.2</td>\n",
              "      <td>Iris-setosa</td>\n",
              "    </tr>\n",
              "    <tr>\n",
              "      <th>8</th>\n",
              "      <td>9</td>\n",
              "      <td>4.4</td>\n",
              "      <td>2.9</td>\n",
              "      <td>1.4</td>\n",
              "      <td>0.2</td>\n",
              "      <td>Iris-setosa</td>\n",
              "    </tr>\n",
              "    <tr>\n",
              "      <th>9</th>\n",
              "      <td>10</td>\n",
              "      <td>4.9</td>\n",
              "      <td>3.1</td>\n",
              "      <td>1.5</td>\n",
              "      <td>0.1</td>\n",
              "      <td>Iris-setosa</td>\n",
              "    </tr>\n",
              "    <tr>\n",
              "      <th>...</th>\n",
              "      <td>...</td>\n",
              "      <td>...</td>\n",
              "      <td>...</td>\n",
              "      <td>...</td>\n",
              "      <td>...</td>\n",
              "      <td>...</td>\n",
              "    </tr>\n",
              "    <tr>\n",
              "      <th>145</th>\n",
              "      <td>146</td>\n",
              "      <td>6.7</td>\n",
              "      <td>3.0</td>\n",
              "      <td>5.2</td>\n",
              "      <td>2.3</td>\n",
              "      <td>Iris-virginica</td>\n",
              "    </tr>\n",
              "    <tr>\n",
              "      <th>146</th>\n",
              "      <td>147</td>\n",
              "      <td>6.3</td>\n",
              "      <td>2.5</td>\n",
              "      <td>5.0</td>\n",
              "      <td>1.9</td>\n",
              "      <td>Iris-virginica</td>\n",
              "    </tr>\n",
              "    <tr>\n",
              "      <th>147</th>\n",
              "      <td>148</td>\n",
              "      <td>6.5</td>\n",
              "      <td>3.0</td>\n",
              "      <td>5.2</td>\n",
              "      <td>2.0</td>\n",
              "      <td>Iris-virginica</td>\n",
              "    </tr>\n",
              "    <tr>\n",
              "      <th>148</th>\n",
              "      <td>149</td>\n",
              "      <td>6.2</td>\n",
              "      <td>3.4</td>\n",
              "      <td>5.4</td>\n",
              "      <td>2.3</td>\n",
              "      <td>Iris-virginica</td>\n",
              "    </tr>\n",
              "    <tr>\n",
              "      <th>149</th>\n",
              "      <td>150</td>\n",
              "      <td>5.9</td>\n",
              "      <td>3.0</td>\n",
              "      <td>5.1</td>\n",
              "      <td>1.8</td>\n",
              "      <td>Iris-virginica</td>\n",
              "    </tr>\n",
              "  </tbody>\n",
              "</table>\n",
              "<p>145 rows × 6 columns</p>\n",
              "</div>\n",
              "      <button class=\"colab-df-convert\" onclick=\"convertToInteractive('df-40d68094-9b02-4170-a5a6-5cb47aed1cbe')\"\n",
              "              title=\"Convert this dataframe to an interactive table.\"\n",
              "              style=\"display:none;\">\n",
              "        \n",
              "  <svg xmlns=\"http://www.w3.org/2000/svg\" height=\"24px\"viewBox=\"0 0 24 24\"\n",
              "       width=\"24px\">\n",
              "    <path d=\"M0 0h24v24H0V0z\" fill=\"none\"/>\n",
              "    <path d=\"M18.56 5.44l.94 2.06.94-2.06 2.06-.94-2.06-.94-.94-2.06-.94 2.06-2.06.94zm-11 1L8.5 8.5l.94-2.06 2.06-.94-2.06-.94L8.5 2.5l-.94 2.06-2.06.94zm10 10l.94 2.06.94-2.06 2.06-.94-2.06-.94-.94-2.06-.94 2.06-2.06.94z\"/><path d=\"M17.41 7.96l-1.37-1.37c-.4-.4-.92-.59-1.43-.59-.52 0-1.04.2-1.43.59L10.3 9.45l-7.72 7.72c-.78.78-.78 2.05 0 2.83L4 21.41c.39.39.9.59 1.41.59.51 0 1.02-.2 1.41-.59l7.78-7.78 2.81-2.81c.8-.78.8-2.07 0-2.86zM5.41 20L4 18.59l7.72-7.72 1.47 1.35L5.41 20z\"/>\n",
              "  </svg>\n",
              "      </button>\n",
              "      \n",
              "  <style>\n",
              "    .colab-df-container {\n",
              "      display:flex;\n",
              "      flex-wrap:wrap;\n",
              "      gap: 12px;\n",
              "    }\n",
              "\n",
              "    .colab-df-convert {\n",
              "      background-color: #E8F0FE;\n",
              "      border: none;\n",
              "      border-radius: 50%;\n",
              "      cursor: pointer;\n",
              "      display: none;\n",
              "      fill: #1967D2;\n",
              "      height: 32px;\n",
              "      padding: 0 0 0 0;\n",
              "      width: 32px;\n",
              "    }\n",
              "\n",
              "    .colab-df-convert:hover {\n",
              "      background-color: #E2EBFA;\n",
              "      box-shadow: 0px 1px 2px rgba(60, 64, 67, 0.3), 0px 1px 3px 1px rgba(60, 64, 67, 0.15);\n",
              "      fill: #174EA6;\n",
              "    }\n",
              "\n",
              "    [theme=dark] .colab-df-convert {\n",
              "      background-color: #3B4455;\n",
              "      fill: #D2E3FC;\n",
              "    }\n",
              "\n",
              "    [theme=dark] .colab-df-convert:hover {\n",
              "      background-color: #434B5C;\n",
              "      box-shadow: 0px 1px 3px 1px rgba(0, 0, 0, 0.15);\n",
              "      filter: drop-shadow(0px 1px 2px rgba(0, 0, 0, 0.3));\n",
              "      fill: #FFFFFF;\n",
              "    }\n",
              "  </style>\n",
              "\n",
              "      <script>\n",
              "        const buttonEl =\n",
              "          document.querySelector('#df-40d68094-9b02-4170-a5a6-5cb47aed1cbe button.colab-df-convert');\n",
              "        buttonEl.style.display =\n",
              "          google.colab.kernel.accessAllowed ? 'block' : 'none';\n",
              "\n",
              "        async function convertToInteractive(key) {\n",
              "          const element = document.querySelector('#df-40d68094-9b02-4170-a5a6-5cb47aed1cbe');\n",
              "          const dataTable =\n",
              "            await google.colab.kernel.invokeFunction('convertToInteractive',\n",
              "                                                     [key], {});\n",
              "          if (!dataTable) return;\n",
              "\n",
              "          const docLinkHtml = 'Like what you see? Visit the ' +\n",
              "            '<a target=\"_blank\" href=https://colab.research.google.com/notebooks/data_table.ipynb>data table notebook</a>'\n",
              "            + ' to learn more about interactive tables.';\n",
              "          element.innerHTML = '';\n",
              "          dataTable['output_type'] = 'display_data';\n",
              "          await google.colab.output.renderOutput(dataTable, element);\n",
              "          const docLink = document.createElement('div');\n",
              "          docLink.innerHTML = docLinkHtml;\n",
              "          element.appendChild(docLink);\n",
              "        }\n",
              "      </script>\n",
              "    </div>\n",
              "  </div>\n",
              "  "
            ]
          },
          "metadata": {}
        }
      ]
    },
    {
      "cell_type": "markdown",
      "source": [
        "15.Perform the above steps on any other dataset available in Sklearn library."
      ],
      "metadata": {
        "id": "iaHhK37rSGId"
      }
    },
    {
      "cell_type": "code",
      "source": [
        "import numpy as np\n",
        "import matplotlib as plt\n",
        "from sklearn import datasets\n",
        "from sklearn import metrics \n",
        "from sklearn.linear_model import LogisticRegression\n",
        "\n",
        "wine=datasets.load_wine()\n",
        "X = wine.data\n",
        "y= wine.target\n",
        "feature_names = wine.feature_names\n",
        "target_names = wine.target_names\n",
        "print(\"Feature names:\", feature_names)\n",
        "print(\"Target names:\", target_names)\n",
        "print(\"\\nFirst 10 rows of X:\\n\", X[:10])"
      ],
      "metadata": {
        "colab": {
          "base_uri": "https://localhost:8080/"
        },
        "id": "On7h4K6cSKHO",
        "outputId": "5072d4dd-0b45-4453-c73f-1d6401304efa"
      },
      "execution_count": null,
      "outputs": [
        {
          "output_type": "stream",
          "name": "stdout",
          "text": [
            "Feature names: ['alcohol', 'malic_acid', 'ash', 'alcalinity_of_ash', 'magnesium', 'total_phenols', 'flavanoids', 'nonflavanoid_phenols', 'proanthocyanins', 'color_intensity', 'hue', 'od280/od315_of_diluted_wines', 'proline']\n",
            "Target names: ['class_0' 'class_1' 'class_2']\n",
            "\n",
            "First 10 rows of X:\n",
            " [[1.423e+01 1.710e+00 2.430e+00 1.560e+01 1.270e+02 2.800e+00 3.060e+00\n",
            "  2.800e-01 2.290e+00 5.640e+00 1.040e+00 3.920e+00 1.065e+03]\n",
            " [1.320e+01 1.780e+00 2.140e+00 1.120e+01 1.000e+02 2.650e+00 2.760e+00\n",
            "  2.600e-01 1.280e+00 4.380e+00 1.050e+00 3.400e+00 1.050e+03]\n",
            " [1.316e+01 2.360e+00 2.670e+00 1.860e+01 1.010e+02 2.800e+00 3.240e+00\n",
            "  3.000e-01 2.810e+00 5.680e+00 1.030e+00 3.170e+00 1.185e+03]\n",
            " [1.437e+01 1.950e+00 2.500e+00 1.680e+01 1.130e+02 3.850e+00 3.490e+00\n",
            "  2.400e-01 2.180e+00 7.800e+00 8.600e-01 3.450e+00 1.480e+03]\n",
            " [1.324e+01 2.590e+00 2.870e+00 2.100e+01 1.180e+02 2.800e+00 2.690e+00\n",
            "  3.900e-01 1.820e+00 4.320e+00 1.040e+00 2.930e+00 7.350e+02]\n",
            " [1.420e+01 1.760e+00 2.450e+00 1.520e+01 1.120e+02 3.270e+00 3.390e+00\n",
            "  3.400e-01 1.970e+00 6.750e+00 1.050e+00 2.850e+00 1.450e+03]\n",
            " [1.439e+01 1.870e+00 2.450e+00 1.460e+01 9.600e+01 2.500e+00 2.520e+00\n",
            "  3.000e-01 1.980e+00 5.250e+00 1.020e+00 3.580e+00 1.290e+03]\n",
            " [1.406e+01 2.150e+00 2.610e+00 1.760e+01 1.210e+02 2.600e+00 2.510e+00\n",
            "  3.100e-01 1.250e+00 5.050e+00 1.060e+00 3.580e+00 1.295e+03]\n",
            " [1.483e+01 1.640e+00 2.170e+00 1.400e+01 9.700e+01 2.800e+00 2.980e+00\n",
            "  2.900e-01 1.980e+00 5.200e+00 1.080e+00 2.850e+00 1.045e+03]\n",
            " [1.386e+01 1.350e+00 2.270e+00 1.600e+01 9.800e+01 2.980e+00 3.150e+00\n",
            "  2.200e-01 1.850e+00 7.220e+00 1.010e+00 3.550e+00 1.045e+03]]\n"
          ]
        }
      ]
    }
  ]
}